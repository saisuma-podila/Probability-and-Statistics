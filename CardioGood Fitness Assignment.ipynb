{
 "cells": [
  {
   "cell_type": "code",
   "execution_count": 2,
   "metadata": {},
   "outputs": [],
   "source": [
    "# importing the required library\n",
    " \n",
    "import seaborn as sns\n",
    "import matplotlib.pyplot as plt\n",
    "import pandas as pd\n",
    "from scipy.stats import chi2_contingency\n",
    "from scipy import stats\n",
    "from scipy.stats import f_oneway\n",
    "import numpy as np\n",
    "import scipy.stats as st"
   ]
  },
  {
   "cell_type": "code",
   "execution_count": 3,
   "metadata": {},
   "outputs": [
    {
     "data": {
      "text/html": [
       "<div>\n",
       "<style scoped>\n",
       "    .dataframe tbody tr th:only-of-type {\n",
       "        vertical-align: middle;\n",
       "    }\n",
       "\n",
       "    .dataframe tbody tr th {\n",
       "        vertical-align: top;\n",
       "    }\n",
       "\n",
       "    .dataframe thead th {\n",
       "        text-align: right;\n",
       "    }\n",
       "</style>\n",
       "<table border=\"1\" class=\"dataframe\">\n",
       "  <thead>\n",
       "    <tr style=\"text-align: right;\">\n",
       "      <th></th>\n",
       "      <th>Product</th>\n",
       "      <th>Age</th>\n",
       "      <th>Gender</th>\n",
       "      <th>Education</th>\n",
       "      <th>Marital Status</th>\n",
       "      <th>Usage</th>\n",
       "      <th>Fitness</th>\n",
       "      <th>Income</th>\n",
       "      <th>Miles</th>\n",
       "    </tr>\n",
       "  </thead>\n",
       "  <tbody>\n",
       "    <tr>\n",
       "      <th>0</th>\n",
       "      <td>TM195</td>\n",
       "      <td>18</td>\n",
       "      <td>Male</td>\n",
       "      <td>14</td>\n",
       "      <td>Single</td>\n",
       "      <td>3</td>\n",
       "      <td>4</td>\n",
       "      <td>29562</td>\n",
       "      <td>112</td>\n",
       "    </tr>\n",
       "    <tr>\n",
       "      <th>1</th>\n",
       "      <td>TM195</td>\n",
       "      <td>19</td>\n",
       "      <td>Male</td>\n",
       "      <td>15</td>\n",
       "      <td>Single</td>\n",
       "      <td>2</td>\n",
       "      <td>3</td>\n",
       "      <td>31836</td>\n",
       "      <td>75</td>\n",
       "    </tr>\n",
       "    <tr>\n",
       "      <th>2</th>\n",
       "      <td>TM195</td>\n",
       "      <td>19</td>\n",
       "      <td>Female</td>\n",
       "      <td>14</td>\n",
       "      <td>Partnered</td>\n",
       "      <td>4</td>\n",
       "      <td>3</td>\n",
       "      <td>30699</td>\n",
       "      <td>66</td>\n",
       "    </tr>\n",
       "    <tr>\n",
       "      <th>3</th>\n",
       "      <td>TM195</td>\n",
       "      <td>19</td>\n",
       "      <td>Male</td>\n",
       "      <td>12</td>\n",
       "      <td>Single</td>\n",
       "      <td>3</td>\n",
       "      <td>3</td>\n",
       "      <td>32973</td>\n",
       "      <td>85</td>\n",
       "    </tr>\n",
       "    <tr>\n",
       "      <th>4</th>\n",
       "      <td>TM195</td>\n",
       "      <td>20</td>\n",
       "      <td>Male</td>\n",
       "      <td>13</td>\n",
       "      <td>Partnered</td>\n",
       "      <td>4</td>\n",
       "      <td>2</td>\n",
       "      <td>35247</td>\n",
       "      <td>47</td>\n",
       "    </tr>\n",
       "  </tbody>\n",
       "</table>\n",
       "</div>"
      ],
      "text/plain": [
       "  Product  Age  Gender  Education Marital Status  Usage  Fitness  Income  \\\n",
       "0   TM195   18    Male         14         Single      3        4   29562   \n",
       "1   TM195   19    Male         15         Single      2        3   31836   \n",
       "2   TM195   19  Female         14      Partnered      4        3   30699   \n",
       "3   TM195   19    Male         12         Single      3        3   32973   \n",
       "4   TM195   20    Male         13      Partnered      4        2   35247   \n",
       "\n",
       "   Miles  \n",
       "0    112  \n",
       "1     75  \n",
       "2     66  \n",
       "3     85  \n",
       "4     47  "
      ]
     },
     "execution_count": 3,
     "metadata": {},
     "output_type": "execute_result"
    }
   ],
   "source": [
    "cardio_data = pd.read_csv('CardioGoodFitness.csv')\n",
    "cardio_data.head(5)"
   ]
  },
  {
   "cell_type": "code",
   "execution_count": 3,
   "metadata": {},
   "outputs": [
    {
     "data": {
      "text/plain": [
       "(180, 9)"
      ]
     },
     "execution_count": 3,
     "metadata": {},
     "output_type": "execute_result"
    }
   ],
   "source": [
    "cardio_data.shape #shape of the data"
   ]
  },
  {
   "cell_type": "code",
   "execution_count": 34,
   "metadata": {},
   "outputs": [
    {
     "data": {
      "text/html": [
       "<div>\n",
       "<style scoped>\n",
       "    .dataframe tbody tr th:only-of-type {\n",
       "        vertical-align: middle;\n",
       "    }\n",
       "\n",
       "    .dataframe tbody tr th {\n",
       "        vertical-align: top;\n",
       "    }\n",
       "\n",
       "    .dataframe thead th {\n",
       "        text-align: right;\n",
       "    }\n",
       "</style>\n",
       "<table border=\"1\" class=\"dataframe\">\n",
       "  <thead>\n",
       "    <tr style=\"text-align: right;\">\n",
       "      <th></th>\n",
       "      <th>Age</th>\n",
       "      <th>Education</th>\n",
       "      <th>Usage</th>\n",
       "      <th>Fitness</th>\n",
       "      <th>Income</th>\n",
       "      <th>Miles</th>\n",
       "    </tr>\n",
       "  </thead>\n",
       "  <tbody>\n",
       "    <tr>\n",
       "      <th>count</th>\n",
       "      <td>180.000000</td>\n",
       "      <td>180.000000</td>\n",
       "      <td>180.000000</td>\n",
       "      <td>180.000000</td>\n",
       "      <td>180.000000</td>\n",
       "      <td>180.000000</td>\n",
       "    </tr>\n",
       "    <tr>\n",
       "      <th>mean</th>\n",
       "      <td>28.788889</td>\n",
       "      <td>15.572222</td>\n",
       "      <td>3.455556</td>\n",
       "      <td>3.311111</td>\n",
       "      <td>53719.577778</td>\n",
       "      <td>103.194444</td>\n",
       "    </tr>\n",
       "    <tr>\n",
       "      <th>std</th>\n",
       "      <td>6.943498</td>\n",
       "      <td>1.617055</td>\n",
       "      <td>1.084797</td>\n",
       "      <td>0.958869</td>\n",
       "      <td>16506.684226</td>\n",
       "      <td>51.863605</td>\n",
       "    </tr>\n",
       "    <tr>\n",
       "      <th>min</th>\n",
       "      <td>18.000000</td>\n",
       "      <td>12.000000</td>\n",
       "      <td>2.000000</td>\n",
       "      <td>1.000000</td>\n",
       "      <td>29562.000000</td>\n",
       "      <td>21.000000</td>\n",
       "    </tr>\n",
       "    <tr>\n",
       "      <th>25%</th>\n",
       "      <td>24.000000</td>\n",
       "      <td>14.000000</td>\n",
       "      <td>3.000000</td>\n",
       "      <td>3.000000</td>\n",
       "      <td>44058.750000</td>\n",
       "      <td>66.000000</td>\n",
       "    </tr>\n",
       "    <tr>\n",
       "      <th>50%</th>\n",
       "      <td>26.000000</td>\n",
       "      <td>16.000000</td>\n",
       "      <td>3.000000</td>\n",
       "      <td>3.000000</td>\n",
       "      <td>50596.500000</td>\n",
       "      <td>94.000000</td>\n",
       "    </tr>\n",
       "    <tr>\n",
       "      <th>75%</th>\n",
       "      <td>33.000000</td>\n",
       "      <td>16.000000</td>\n",
       "      <td>4.000000</td>\n",
       "      <td>4.000000</td>\n",
       "      <td>58668.000000</td>\n",
       "      <td>114.750000</td>\n",
       "    </tr>\n",
       "    <tr>\n",
       "      <th>max</th>\n",
       "      <td>50.000000</td>\n",
       "      <td>21.000000</td>\n",
       "      <td>7.000000</td>\n",
       "      <td>5.000000</td>\n",
       "      <td>104581.000000</td>\n",
       "      <td>360.000000</td>\n",
       "    </tr>\n",
       "  </tbody>\n",
       "</table>\n",
       "</div>"
      ],
      "text/plain": [
       "              Age   Education       Usage     Fitness         Income  \\\n",
       "count  180.000000  180.000000  180.000000  180.000000     180.000000   \n",
       "mean    28.788889   15.572222    3.455556    3.311111   53719.577778   \n",
       "std      6.943498    1.617055    1.084797    0.958869   16506.684226   \n",
       "min     18.000000   12.000000    2.000000    1.000000   29562.000000   \n",
       "25%     24.000000   14.000000    3.000000    3.000000   44058.750000   \n",
       "50%     26.000000   16.000000    3.000000    3.000000   50596.500000   \n",
       "75%     33.000000   16.000000    4.000000    4.000000   58668.000000   \n",
       "max     50.000000   21.000000    7.000000    5.000000  104581.000000   \n",
       "\n",
       "            Miles  \n",
       "count  180.000000  \n",
       "mean   103.194444  \n",
       "std     51.863605  \n",
       "min     21.000000  \n",
       "25%     66.000000  \n",
       "50%     94.000000  \n",
       "75%    114.750000  \n",
       "max    360.000000  "
      ]
     },
     "execution_count": 34,
     "metadata": {},
     "output_type": "execute_result"
    }
   ],
   "source": [
    "cardio_data.describe() # data description"
   ]
  },
  {
   "cell_type": "code",
   "execution_count": 4,
   "metadata": {},
   "outputs": [
    {
     "name": "stdout",
     "output_type": "stream",
     "text": [
      "TM195    80\n",
      "TM498    60\n",
      "TM798    40\n",
      "Name: Product, dtype: int64\n"
     ]
    },
    {
     "data": {
      "image/png": "[encoded data removed]",
      "text/plain": [
       "<Figure size 432x288 with 1 Axes>"
      ]
     },
     "metadata": {
      "needs_background": "light"
     },
     "output_type": "display_data"
    }
   ],
   "source": [
    "#1.Checking the frequency of the type of product (sales of product indivisually)\n",
    "print(cardio_data['Product'].value_counts())\n",
    "sns.countplot(x ='Product', data = cardio_data)\n",
    "plt.show()\n",
    "# Analysis  : The TM195 has the highest customers then TM 498 and TM798"
   ]
  },
  {
   "cell_type": "code",
   "execution_count": 5,
   "metadata": {},
   "outputs": [
    {
     "name": "stdout",
     "output_type": "stream",
     "text": [
      "Gender  Product\n",
      "Female  TM195      40\n",
      "        TM498      29\n",
      "        TM798       7\n",
      "Male    TM195      40\n",
      "        TM798      33\n",
      "        TM498      31\n",
      "Name: Product, dtype: int64\n"
     ]
    },
    {
     "data": {
      "image/png": "[encoded data removed]",
      "text/plain": [
       "<Figure size 432x288 with 1 Axes>"
      ]
     },
     "metadata": {
      "needs_background": "light"
     },
     "output_type": "display_data"
    }
   ],
   "source": [
    "#2.Checking the frequency of the gender based of on the type of product\n",
    "print(cardio_data.groupby(['Gender'])['Product'].value_counts())\n",
    "sns.countplot(x ='Gender', data = cardio_data , hue = 'Product')\n",
    "plt.show()\n",
    "# Analysis  : both tm195 and tm498 have almost same users "
   ]
  },
  {
   "cell_type": "code",
   "execution_count": 6,
   "metadata": {},
   "outputs": [
    {
     "name": "stdout",
     "output_type": "stream",
     "text": [
      "Product\n",
      "TM195    28.55\n",
      "TM498    28.90\n",
      "TM798    29.10\n",
      "Name: Age, dtype: float64\n"
     ]
    },
    {
     "data": {
      "image/png": "[encoded data removed]",
      "text/plain": [
       "<Figure size 432x288 with 1 Axes>"
      ]
     },
     "metadata": {
      "needs_background": "light"
     },
     "output_type": "display_data"
    }
   ],
   "source": [
    "#3.Mean age of the people who purchase the product\n",
    "print(cardio_data.groupby(['Product'])['Age'].mean())\n",
    "cardio_data.groupby(['Product'])['Age'].mean().plot(kind='bar')\n",
    "plt.xticks(rotation=0)\n",
    "plt.show()"
   ]
  },
  {
   "cell_type": "code",
   "execution_count": 7,
   "metadata": {},
   "outputs": [
    {
     "name": "stdout",
     "output_type": "stream",
     "text": [
      "Product\n",
      "TM195    26\n",
      "TM498    26\n",
      "TM798    27\n",
      "Name: Age, dtype: int64\n"
     ]
    }
   ],
   "source": [
    "#median age data of product\n",
    "print(cardio_data.groupby(['Product'])['Age'].median())"
   ]
  },
  {
   "cell_type": "code",
   "execution_count": 8,
   "metadata": {},
   "outputs": [],
   "source": [
    "# Analysis : mean age of product of all 3 categories is around 28 yrs and median age is around 26 yrs"
   ]
  },
  {
   "cell_type": "code",
   "execution_count": 9,
   "metadata": {},
   "outputs": [
    {
     "name": "stdout",
     "output_type": "stream",
     "text": [
      "Product\n",
      "TM195    15.037500\n",
      "TM498    15.116667\n",
      "TM798    17.325000\n",
      "Name: Education, dtype: float64\n"
     ]
    },
    {
     "data": {
      "image/png": "[encoded data removed]",
      "text/plain": [
       "<Figure size 432x288 with 1 Axes>"
      ]
     },
     "metadata": {
      "needs_background": "light"
     },
     "output_type": "display_data"
    }
   ],
   "source": [
    "#4.Mean Education level of the people who purchase the product\n",
    "print(cardio_data.groupby(['Product'])['Education'].mean())\n",
    "cardio_data.groupby(['Product'])['Education'].mean().plot(kind='bar')\n",
    "plt.xticks(rotation=0)\n",
    "plt.show()\n",
    "# Analysis : Here we can see that the people using TM798 have the highest level of education"
   ]
  },
  {
   "cell_type": "code",
   "execution_count": 10,
   "metadata": {},
   "outputs": [
    {
     "name": "stdout",
     "output_type": "stream",
     "text": [
      "TM195 lower interval :  12.60473317385744\n",
      "TM195 Upper interval : 17.47026682614256\n",
      "TM498 lower interval :  12.67156317735454\n",
      "TM498 Upper interval : 17.56177015597879\n",
      "TM798 lower interval :  14.046867323283902\n",
      "TM798 Upper interval : 20.603132676716097\n"
     ]
    }
   ],
   "source": [
    "# confidence interval for the same is at 95% (2*SD)\n",
    "\n",
    "## Treadmill 1 (TM195)\n",
    "vals = cardio_data[cardio_data['Product'] == 'TM195']['Education']\n",
    "print('TM195 lower interval : ',vals.mean()-vals.std()*2)\n",
    "print('TM195 Upper interval :',vals.mean()+vals.std()*2)\n",
    "\n",
    "## Treadmill 1 (TM498)\n",
    "vals = cardio_data[cardio_data['Product'] == 'TM498']['Education']\n",
    "print('TM498 lower interval : ',vals.mean()-vals.std()*2)\n",
    "print('TM498 Upper interval :',vals.mean()+vals.std()*2)\n",
    "\n",
    "## Treadmill 1 (TM798)\n",
    "vals = cardio_data[cardio_data['Product'] == 'TM798']['Education']\n",
    "print('TM798 lower interval : ',vals.mean()-vals.std()*2)\n",
    "print('TM798 Upper interval :',vals.mean()+vals.std()*2)"
   ]
  },
  {
   "cell_type": "code",
   "execution_count": 11,
   "metadata": {},
   "outputs": [
    {
     "data": {
      "image/png": "[encoded data removed]",
      "text/plain": [
       "<Figure size 432x288 with 1 Axes>"
      ]
     },
     "metadata": {
      "needs_background": "light"
     },
     "output_type": "display_data"
    }
   ],
   "source": [
    "#5.Checking the frequency of the maritial status based of on the type of product\n",
    "sns.countplot(x ='Product', data = cardio_data , hue = 'Marital Status')\n",
    "plt.show()\n",
    "## Analysis : Partners are more interested in buying the machines for cardio"
   ]
  },
  {
   "cell_type": "code",
   "execution_count": 12,
   "metadata": {},
   "outputs": [
    {
     "name": "stdout",
     "output_type": "stream",
     "text": [
      "Product\n",
      "TM195    3.087500\n",
      "TM498    3.066667\n",
      "TM798    4.775000\n",
      "Name: Usage, dtype: float64\n"
     ]
    },
    {
     "data": {
      "image/png": "[encoded data removed]",
      "text/plain": [
       "<Figure size 432x288 with 1 Axes>"
      ]
     },
     "metadata": {
      "needs_background": "light"
     },
     "output_type": "display_data"
    }
   ],
   "source": [
    "#6.Mean Usage level of the people who purchase the product\n",
    "print(cardio_data.groupby(['Product'])['Usage'].mean())\n",
    "cardio_data.groupby(['Product'])['Usage'].mean().plot(kind='bar')\n",
    "plt.xticks(rotation=0)\n",
    "plt.show()"
   ]
  },
  {
   "cell_type": "code",
   "execution_count": 13,
   "metadata": {},
   "outputs": [
    {
     "name": "stdout",
     "output_type": "stream",
     "text": [
      "Product  Gender\n",
      "TM195    Female    2.900000\n",
      "         Male      3.275000\n",
      "TM498    Female    3.137931\n",
      "         Male      3.000000\n",
      "TM798    Female    5.000000\n",
      "         Male      4.727273\n",
      "Name: Usage, dtype: float64\n"
     ]
    }
   ],
   "source": [
    "print(cardio_data.groupby(['Product','Gender'])['Usage'].mean())"
   ]
  },
  {
   "cell_type": "code",
   "execution_count": 14,
   "metadata": {},
   "outputs": [],
   "source": [
    "# Analysis : The people using TM798 have the highest level of usage and females use it mroe than males"
   ]
  },
  {
   "cell_type": "code",
   "execution_count": 15,
   "metadata": {},
   "outputs": [
    {
     "name": "stdout",
     "output_type": "stream",
     "text": [
      "TM195 lower interval :  1.522252415750148\n",
      "TM195 Upper interval : 4.652747584249852\n",
      "TM498 lower interval :  1.4672317382011535\n",
      "TM498 Upper interval : 4.66610159513218\n",
      "TM798 lower interval :  2.881014918965969\n",
      "TM798 Upper interval : 6.668985081034032\n"
     ]
    }
   ],
   "source": [
    "# confidence interval for the same is at 95% (2*SD)\n",
    "\n",
    "## Treadmill 1 (TM195)\n",
    "vals = cardio_data[cardio_data['Product'] == 'TM195']['Usage']\n",
    "print('TM195 lower interval : ',vals.mean()-vals.std()*2)\n",
    "print('TM195 Upper interval :',vals.mean()+vals.std()*2)\n",
    "\n",
    "## Treadmill 1 (TM498)\n",
    "vals = cardio_data[cardio_data['Product'] == 'TM498']['Usage']\n",
    "print('TM498 lower interval : ',vals.mean()-vals.std()*2)\n",
    "print('TM498 Upper interval :',vals.mean()+vals.std()*2)\n",
    "\n",
    "## Treadmill 1 (TM798)\n",
    "vals = cardio_data[cardio_data['Product'] == 'TM798']['Usage']\n",
    "print('TM798 lower interval : ',vals.mean()-vals.std()*2)\n",
    "print('TM798 Upper interval :',vals.mean()+vals.std()*2)"
   ]
  },
  {
   "cell_type": "code",
   "execution_count": 16,
   "metadata": {},
   "outputs": [
    {
     "name": "stdout",
     "output_type": "stream",
     "text": [
      "Product\n",
      "TM195    46418.025\n",
      "TM498    48973.650\n",
      "TM798    75441.575\n",
      "Name: Income, dtype: float64\n"
     ]
    },
    {
     "data": {
      "image/png": "[encoded data removed]",
      "text/plain": [
       "<Figure size 432x288 with 1 Axes>"
      ]
     },
     "metadata": {
      "needs_background": "light"
     },
     "output_type": "display_data"
    }
   ],
   "source": [
    "#7.Mean Income of the people who purchase the product\n",
    "print(cardio_data.groupby(['Product'])['Income'].mean())\n",
    "cardio_data.groupby(['Product'])['Income'].mean().plot(kind='bar')\n",
    "plt.xticks(rotation=0)\n",
    "plt.show()\n",
    "# Analysis : The pople owning TM798 have a highest income "
   ]
  },
  {
   "cell_type": "code",
   "execution_count": 17,
   "metadata": {},
   "outputs": [
    {
     "name": "stdout",
     "output_type": "stream",
     "text": [
      "TM195 lower interval :  28266.45862068208\n",
      "TM195 Upper interval : 64569.59137931792\n",
      "TM498 lower interval :  31665.671223372054\n",
      "TM498 Upper interval : 66281.62877662794\n",
      "TM798 lower interval :  38429.90155973634\n",
      "TM798 Upper interval : 112453.24844026365\n"
     ]
    }
   ],
   "source": [
    "# confidence interval for the same is at 95% (2*SD)\n",
    "\n",
    "## Treadmill 1 (TM195)\n",
    "vals = cardio_data[cardio_data['Product'] == 'TM195']['Income']\n",
    "print('TM195 lower interval : ',vals.mean()-vals.std()*2)\n",
    "print('TM195 Upper interval :',vals.mean()+vals.std()*2)\n",
    "\n",
    "## Treadmill 1 (TM498)\n",
    "vals = cardio_data[cardio_data['Product'] == 'TM498']['Income']\n",
    "print('TM498 lower interval : ',vals.mean()-vals.std()*2)\n",
    "print('TM498 Upper interval :',vals.mean()+vals.std()*2)\n",
    "\n",
    "## Treadmill 1 (TM798)\n",
    "vals = cardio_data[cardio_data['Product'] == 'TM798']['Income']\n",
    "print('TM798 lower interval : ',vals.mean()-vals.std()*2)\n",
    "print('TM798 Upper interval :',vals.mean()+vals.std()*2)"
   ]
  },
  {
   "cell_type": "code",
   "execution_count": 18,
   "metadata": {
    "scrolled": false
   },
   "outputs": [
    {
     "name": "stdout",
     "output_type": "stream",
     "text": [
      "Product\n",
      "TM195     82.787500\n",
      "TM498     87.933333\n",
      "TM798    166.900000\n",
      "Name: Miles, dtype: float64\n"
     ]
    },
    {
     "data": {
      "image/png": "[encoded data removed]",
      "text/plain": [
       "<Figure size 432x288 with 1 Axes>"
      ]
     },
     "metadata": {
      "needs_background": "light"
     },
     "output_type": "display_data"
    }
   ],
   "source": [
    "#8.Mean Miles of the people who purchase the product\n",
    "print(cardio_data.groupby(['Product'])['Miles'].mean())\n",
    "cardio_data.groupby(['Product'])['Miles'].mean().plot(kind='bar')\n",
    "plt.xticks(rotation=0)\n",
    "plt.show()\n",
    "# Analysis : TM798 are having most miles"
   ]
  },
  {
   "cell_type": "code",
   "execution_count": 19,
   "metadata": {},
   "outputs": [
    {
     "name": "stdout",
     "output_type": "stream",
     "text": [
      "TM195 lower interval :  25.03929601674924\n",
      "TM195 Upper interval : 140.53570398325076\n",
      "TM498 lower interval :  21.40706308790051\n",
      "TM498 Upper interval : 154.45960357876618\n",
      "TM798 lower interval :  46.76691140922513\n",
      "TM798 Upper interval : 287.03308859077487\n"
     ]
    }
   ],
   "source": [
    "# confidence interval for the same is at 95% (2*SD)\n",
    "\n",
    "## Treadmill 1 (TM195)\n",
    "vals = cardio_data[cardio_data['Product'] == 'TM195']['Miles']\n",
    "print('TM195 lower interval : ',vals.mean()-vals.std()*2)\n",
    "print('TM195 Upper interval :',vals.mean()+vals.std()*2)\n",
    "\n",
    "## Treadmill 1 (TM498)\n",
    "vals = cardio_data[cardio_data['Product'] == 'TM498']['Miles']\n",
    "print('TM498 lower interval : ',vals.mean()-vals.std()*2)\n",
    "print('TM498 Upper interval :',vals.mean()+vals.std()*2)\n",
    "\n",
    "## Treadmill 1 (TM798)\n",
    "vals = cardio_data[cardio_data['Product'] == 'TM798']['Miles']\n",
    "print('TM798 lower interval : ',vals.mean()-vals.std()*2)\n",
    "print('TM798 Upper interval :',vals.mean()+vals.std()*2)"
   ]
  },
  {
   "cell_type": "markdown",
   "metadata": {},
   "source": [
    "## Statistical Tests"
   ]
  },
  {
   "cell_type": "code",
   "execution_count": 50,
   "metadata": {},
   "outputs": [
    {
     "name": "stdout",
     "output_type": "stream",
     "text": [
      "pvalue 0.5827073041634316\n",
      "Confidence interval for the same is :  (26.277023923131345, 31.02297607686865)\n"
     ]
    }
   ],
   "source": [
    "#1. AVG age of people purchasing TM195 is 28\n",
    "\n",
    "#hypothesis tests\n",
    "\n",
    "## H0 : mean people purchasing = 28\n",
    "## H1 : mean people purchasing != 28\n",
    "\n",
    "data_values = cardio_data[(cardio_data['Product'] == 'TM195') & (cardio_data['Gender'] == 'Male')]['Age']\n",
    "t_test,pval = stats.ttest_1samp(a = data_values , popmean = 28)\n",
    "print('pvalue',pval)\n",
    "print(\"Confidence interval for the same is : \",stats.t.interval(0.95,df = len(data_values)-1 , loc = data_values.mean()\n",
    "                                                                , scale = data_values.std()/np.sqrt(len(data_values)) ))"
   ]
  },
  {
   "cell_type": "code",
   "execution_count": 21,
   "metadata": {},
   "outputs": [],
   "source": [
    "#As p values is more than 0.05 we can fail to reject null hypothesis \n",
    "#Confidence interval for the same is :  (26.899265528037244, 32.19164356287185)"
   ]
  },
  {
   "cell_type": "code",
   "execution_count": 51,
   "metadata": {},
   "outputs": [
    {
     "name": "stdout",
     "output_type": "stream",
     "text": [
      "pvalue 0.32036371526073226\n",
      "Confidence interval for the same is :  (2.913335606625931, 3.261664393374069)\n"
     ]
    }
   ],
   "source": [
    "#2. AVG usage of TM195 is 3\n",
    "\n",
    "#hypothesis tests\n",
    "\n",
    "## H0 : mean people usage less than or equal to 3\n",
    "## H1 : mean people usage greater than 3\n",
    "\n",
    "data_values = cardio_data[(cardio_data['Product'] == 'TM195')]['Usage']\n",
    "# from statsmodels.stats import weightstats as stats\n",
    "t_test,pval = stats.ttest_1samp(a = data_values , popmean = 3)\n",
    "print('pvalue',pval)\n",
    "print(\"Confidence interval for the same is : \",stats.t.interval(0.95,df = len(data_values)-1 , loc = data_values.mean()\n",
    "                                                                , scale = data_values.std()/np.sqrt(len(data_values)) ))"
   ]
  },
  {
   "cell_type": "code",
   "execution_count": 23,
   "metadata": {},
   "outputs": [],
   "source": [
    "#As p values is more than 0.05 we can fail to reject null hypothesis \n",
    "#Confidence interval for the same is :  (26.899265528037244, 32.19164356287185)"
   ]
  },
  {
   "cell_type": "code",
   "execution_count": 24,
   "metadata": {},
   "outputs": [
    {
     "name": "stdout",
     "output_type": "stream",
     "text": [
      "pvalue 4.200577434456929e-06\n",
      "Confidence interval for the same is :  (15.33438335739613, 15.810061087048316)\n"
     ]
    }
   ],
   "source": [
    "#3. AVG Education of people purchasing machine is 15\n",
    "\n",
    "#hypothesis tests\n",
    "\n",
    "## H0 : mean people Education less than or equal to 15\n",
    "## H1 : mean people Education greater 15\n",
    "\n",
    "data_values = cardio_data['Education']\n",
    "# from statsmodels.stats import weightstats as stats\n",
    "t_test,pval = stats.ttest_1samp(a = data_values , popmean = 15)\n",
    "print('pvalue',pval)\n",
    "print(\"Confidence interval for the same is : \",stats.t.interval(0.95,df = len(data_values)-1 , loc = data_values.mean()\n",
    "                                                                , scale = data_values.std()/np.sqrt(len(data_values)) ))"
   ]
  },
  {
   "cell_type": "code",
   "execution_count": 25,
   "metadata": {},
   "outputs": [],
   "source": [
    "#As p values is less than 0.05 we can reject null hypothesis \n",
    "#Confidence interval for the same is :  (15.33438335739613, 15.810061087048316)"
   ]
  },
  {
   "cell_type": "code",
   "execution_count": 26,
   "metadata": {},
   "outputs": [
    {
     "name": "stdout",
     "output_type": "stream",
     "text": [
      "pvalue 0.8808224787915397\n",
      "Confidence interval for the same is :  (69523.1213140159, 81360.0286859841)\n"
     ]
    }
   ],
   "source": [
    "#4. AVG income of people purchasing TM798 is 75000\n",
    "\n",
    "#hypothesis tests\n",
    "\n",
    "## H0 : mean people income = 75000\n",
    "## H1 : mean people income != 75000\n",
    "\n",
    "data_values = cardio_data[(cardio_data['Product'] == 'TM798')]['Income']\n",
    "# from statsmodels.stats import weightstats as stats\n",
    "t_test,pval = stats.ttest_1samp(a = data_values , popmean = 75000)\n",
    "print('pvalue',pval)\n",
    "print(\"Confidence interval for the same is : \",stats.t.interval(0.95,df = len(data_values)-1 , loc = data_values.mean()\n",
    "                                                                , scale = data_values.std()/np.sqrt(len(data_values)) ))"
   ]
  },
  {
   "cell_type": "code",
   "execution_count": 27,
   "metadata": {},
   "outputs": [],
   "source": [
    "# As the p value is more then 0.05 so we cannot reject the null hypothesis "
   ]
  },
  {
   "cell_type": "code",
   "execution_count": 28,
   "metadata": {},
   "outputs": [
    {
     "name": "stdout",
     "output_type": "stream",
     "text": [
      "pvalue 0.8079079291894233\n",
      "Confidence interval for the same is :  (76.36188336504124, 89.21311663495875)\n"
     ]
    }
   ],
   "source": [
    "#5.AVG miles of people getting TM195 is 82 miles\n",
    "\n",
    "#hypothesis tests\n",
    "\n",
    "## H0 : mean people Miles = 82\n",
    "## H1 : mean people Miles != 82\n",
    "\n",
    "data_values = cardio_data[(cardio_data['Product'] == 'TM195')]['Miles']\n",
    "# from statsmodels.stats import weightstats as stats\n",
    "t_test,pval = stats.ttest_1samp(a = data_values , popmean = 82)\n",
    "print('pvalue',pval)\n",
    "print(\"Confidence interval for the same is : \",stats.t.interval(0.95,df = len(data_values)-1 , loc = data_values.mean()\n",
    "                                                                , scale = data_values.std()/np.sqrt(len(data_values)) ))"
   ]
  },
  {
   "cell_type": "code",
   "execution_count": 29,
   "metadata": {},
   "outputs": [],
   "source": [
    "# As the p value is more then 0.05 so we cannot reject the null hypothesis "
   ]
  },
  {
   "cell_type": "code",
   "execution_count": 30,
   "metadata": {},
   "outputs": [
    {
     "name": "stdout",
     "output_type": "stream",
     "text": [
      "pvalue 0.0015617972833158714\n"
     ]
    }
   ],
   "source": [
    "#6. Relationship in product and the gender\n",
    "\n",
    "# Hypothesis\n",
    "\n",
    "## H0 : Gender and product are independent\n",
    "## H1 : Gender and product are dependent\n",
    "\n",
    "observed_values = pd.crosstab(cardio_data['Product'],cardio_data['Gender'])\n",
    "test_Stat,p,dof,expected_val = chi2_contingency(observed = observed_values)\n",
    "print('pvalue',p)"
   ]
  },
  {
   "cell_type": "code",
   "execution_count": 31,
   "metadata": {},
   "outputs": [],
   "source": [
    "## Here as we can see that the pvalue is 0.0015 which is less than 0.05 so we reject the null hypothesis "
   ]
  },
  {
   "cell_type": "code",
   "execution_count": 32,
   "metadata": {},
   "outputs": [
    {
     "name": "stdout",
     "output_type": "stream",
     "text": [
      "pvalue 1.3951292571863684e-16\n"
     ]
    }
   ],
   "source": [
    "#7. AVG Education is same for all\n",
    "\n",
    "#hypothesis :\n",
    "\n",
    "# H0 : The average is same\n",
    "# H1 : The average diff\n",
    "\n",
    "TM195 = cardio_data[(cardio_data['Product'] == 'TM195')]['Education']\n",
    "TM498 = cardio_data[(cardio_data['Product'] == 'TM498')]['Education']\n",
    "TM798 = cardio_data[(cardio_data['Product'] == 'TM798')]['Education']\n",
    "\n",
    "ftest,pval = f_oneway(TM195,TM498,TM798)\n",
    "print('pvalue',pval)"
   ]
  },
  {
   "cell_type": "code",
   "execution_count": 33,
   "metadata": {},
   "outputs": [],
   "source": [
    "# As the p value is lesser than 0.05 so we reject the null hypothesis "
   ]
  },
  {
   "cell_type": "markdown",
   "metadata": {},
   "source": [
    "## Confidence intervals calculations"
   ]
  },
  {
   "cell_type": "code",
   "execution_count": 43,
   "metadata": {},
   "outputs": [
    {
     "data": {
      "text/html": [
       "<div>\n",
       "<style scoped>\n",
       "    .dataframe tbody tr th:only-of-type {\n",
       "        vertical-align: middle;\n",
       "    }\n",
       "\n",
       "    .dataframe tbody tr th {\n",
       "        vertical-align: top;\n",
       "    }\n",
       "\n",
       "    .dataframe thead th {\n",
       "        text-align: right;\n",
       "    }\n",
       "</style>\n",
       "<table border=\"1\" class=\"dataframe\">\n",
       "  <thead>\n",
       "    <tr style=\"text-align: right;\">\n",
       "      <th></th>\n",
       "      <th>count</th>\n",
       "      <th>mean</th>\n",
       "      <th>std</th>\n",
       "      <th>min</th>\n",
       "      <th>25%</th>\n",
       "      <th>50%</th>\n",
       "      <th>75%</th>\n",
       "      <th>max</th>\n",
       "    </tr>\n",
       "  </thead>\n",
       "  <tbody>\n",
       "    <tr>\n",
       "      <th>Age</th>\n",
       "      <td>80.0</td>\n",
       "      <td>28.5500</td>\n",
       "      <td>7.221452</td>\n",
       "      <td>18.0</td>\n",
       "      <td>23.0</td>\n",
       "      <td>26.0</td>\n",
       "      <td>33.0</td>\n",
       "      <td>50.0</td>\n",
       "    </tr>\n",
       "    <tr>\n",
       "      <th>Education</th>\n",
       "      <td>80.0</td>\n",
       "      <td>15.0375</td>\n",
       "      <td>1.216383</td>\n",
       "      <td>12.0</td>\n",
       "      <td>14.0</td>\n",
       "      <td>16.0</td>\n",
       "      <td>16.0</td>\n",
       "      <td>18.0</td>\n",
       "    </tr>\n",
       "    <tr>\n",
       "      <th>Usage</th>\n",
       "      <td>80.0</td>\n",
       "      <td>3.0875</td>\n",
       "      <td>0.782624</td>\n",
       "      <td>2.0</td>\n",
       "      <td>3.0</td>\n",
       "      <td>3.0</td>\n",
       "      <td>4.0</td>\n",
       "      <td>5.0</td>\n",
       "    </tr>\n",
       "    <tr>\n",
       "      <th>Fitness</th>\n",
       "      <td>80.0</td>\n",
       "      <td>2.9625</td>\n",
       "      <td>0.664540</td>\n",
       "      <td>1.0</td>\n",
       "      <td>3.0</td>\n",
       "      <td>3.0</td>\n",
       "      <td>3.0</td>\n",
       "      <td>5.0</td>\n",
       "    </tr>\n",
       "    <tr>\n",
       "      <th>Income</th>\n",
       "      <td>80.0</td>\n",
       "      <td>46418.0250</td>\n",
       "      <td>9075.783190</td>\n",
       "      <td>29562.0</td>\n",
       "      <td>38658.0</td>\n",
       "      <td>46617.0</td>\n",
       "      <td>53439.0</td>\n",
       "      <td>68220.0</td>\n",
       "    </tr>\n",
       "    <tr>\n",
       "      <th>Miles</th>\n",
       "      <td>80.0</td>\n",
       "      <td>82.7875</td>\n",
       "      <td>28.874102</td>\n",
       "      <td>38.0</td>\n",
       "      <td>66.0</td>\n",
       "      <td>85.0</td>\n",
       "      <td>94.0</td>\n",
       "      <td>188.0</td>\n",
       "    </tr>\n",
       "  </tbody>\n",
       "</table>\n",
       "</div>"
      ],
      "text/plain": [
       "           count        mean          std      min      25%      50%      75%  \\\n",
       "Age         80.0     28.5500     7.221452     18.0     23.0     26.0     33.0   \n",
       "Education   80.0     15.0375     1.216383     12.0     14.0     16.0     16.0   \n",
       "Usage       80.0      3.0875     0.782624      2.0      3.0      3.0      4.0   \n",
       "Fitness     80.0      2.9625     0.664540      1.0      3.0      3.0      3.0   \n",
       "Income      80.0  46418.0250  9075.783190  29562.0  38658.0  46617.0  53439.0   \n",
       "Miles       80.0     82.7875    28.874102     38.0     66.0     85.0     94.0   \n",
       "\n",
       "               max  \n",
       "Age           50.0  \n",
       "Education     18.0  \n",
       "Usage          5.0  \n",
       "Fitness        5.0  \n",
       "Income     68220.0  \n",
       "Miles        188.0  "
      ]
     },
     "execution_count": 43,
     "metadata": {},
     "output_type": "execute_result"
    }
   ],
   "source": [
    "#TM195 data description \n",
    "data_values = cardio_data[cardio_data['Product'] == 'TM195']\n",
    "data_values.describe().T"
   ]
  },
  {
   "cell_type": "code",
   "execution_count": 32,
   "metadata": {},
   "outputs": [],
   "source": [
    "def confidence_interval(percentage,values):\n",
    "    z_values = {70:1.036,80:1.282,85:1.440,90:1.645,95:1.960,98:2.326,99:2.576}\n",
    "    upper_bound = values.mean()+z_values[percentage]*(values.std()/np.sqrt(len(values)))\n",
    "    lower_bound = values.mean()-z_values[percentage]*(values.std()/np.sqrt(len(values)))\n",
    "    return upper_bound,lower_bound"
   ]
  },
  {
   "cell_type": "code",
   "execution_count": 52,
   "metadata": {},
   "outputs": [
    {
     "data": {
      "text/html": [
       "<div>\n",
       "<style scoped>\n",
       "    .dataframe tbody tr th:only-of-type {\n",
       "        vertical-align: middle;\n",
       "    }\n",
       "\n",
       "    .dataframe tbody tr th {\n",
       "        vertical-align: top;\n",
       "    }\n",
       "\n",
       "    .dataframe thead th {\n",
       "        text-align: right;\n",
       "    }\n",
       "</style>\n",
       "<table border=\"1\" class=\"dataframe\">\n",
       "  <thead>\n",
       "    <tr style=\"text-align: right;\">\n",
       "      <th></th>\n",
       "      <th>CI</th>\n",
       "      <th>Lower</th>\n",
       "      <th>Upper</th>\n",
       "    </tr>\n",
       "  </thead>\n",
       "  <tbody>\n",
       "    <tr>\n",
       "      <th>0</th>\n",
       "      <td>70</td>\n",
       "      <td>14.896608</td>\n",
       "      <td>15.178392</td>\n",
       "    </tr>\n",
       "    <tr>\n",
       "      <th>1</th>\n",
       "      <td>80</td>\n",
       "      <td>14.863153</td>\n",
       "      <td>15.211847</td>\n",
       "    </tr>\n",
       "    <tr>\n",
       "      <th>2</th>\n",
       "      <td>85</td>\n",
       "      <td>14.841666</td>\n",
       "      <td>15.233334</td>\n",
       "    </tr>\n",
       "    <tr>\n",
       "      <th>3</th>\n",
       "      <td>90</td>\n",
       "      <td>14.813787</td>\n",
       "      <td>15.261213</td>\n",
       "    </tr>\n",
       "    <tr>\n",
       "      <th>4</th>\n",
       "      <td>95</td>\n",
       "      <td>14.770948</td>\n",
       "      <td>15.304052</td>\n",
       "    </tr>\n",
       "    <tr>\n",
       "      <th>5</th>\n",
       "      <td>98</td>\n",
       "      <td>14.721174</td>\n",
       "      <td>15.353826</td>\n",
       "    </tr>\n",
       "    <tr>\n",
       "      <th>6</th>\n",
       "      <td>99</td>\n",
       "      <td>14.687175</td>\n",
       "      <td>15.387825</td>\n",
       "    </tr>\n",
       "  </tbody>\n",
       "</table>\n",
       "</div>"
      ],
      "text/plain": [
       "   CI      Lower      Upper\n",
       "0  70  14.896608  15.178392\n",
       "1  80  14.863153  15.211847\n",
       "2  85  14.841666  15.233334\n",
       "3  90  14.813787  15.261213\n",
       "4  95  14.770948  15.304052\n",
       "5  98  14.721174  15.353826\n",
       "6  99  14.687175  15.387825"
      ]
     },
     "execution_count": 52,
     "metadata": {},
     "output_type": "execute_result"
    }
   ],
   "source": [
    "#Education CI\n",
    "data_values = cardio_data[cardio_data['Product'] == 'TM195']['Education']\n",
    "upper,lower = confidence_interval(99,vals)\n",
    "\n",
    "intervals = [70,80,85,90,95,98,99]\n",
    "Education_log = []\n",
    "for val in intervals:\n",
    "    upper,lower = confidence_interval(val,data_values)\n",
    "    Education_log.append([val,lower,upper])\n",
    "pd.DataFrame(Education_log,columns=[\"CI\",'Lower','Upper'])"
   ]
  },
  {
   "cell_type": "code",
   "execution_count": 48,
   "metadata": {},
   "outputs": [
    {
     "data": {
      "text/html": [
       "<div>\n",
       "<style scoped>\n",
       "    .dataframe tbody tr th:only-of-type {\n",
       "        vertical-align: middle;\n",
       "    }\n",
       "\n",
       "    .dataframe tbody tr th {\n",
       "        vertical-align: top;\n",
       "    }\n",
       "\n",
       "    .dataframe thead th {\n",
       "        text-align: right;\n",
       "    }\n",
       "</style>\n",
       "<table border=\"1\" class=\"dataframe\">\n",
       "  <thead>\n",
       "    <tr style=\"text-align: right;\">\n",
       "      <th></th>\n",
       "      <th>CI</th>\n",
       "      <th>Lower</th>\n",
       "      <th>Upper</th>\n",
       "    </tr>\n",
       "  </thead>\n",
       "  <tbody>\n",
       "    <tr>\n",
       "      <th>0</th>\n",
       "      <td>70</td>\n",
       "      <td>45366.792269</td>\n",
       "      <td>47469.257731</td>\n",
       "    </tr>\n",
       "    <tr>\n",
       "      <th>1</th>\n",
       "      <td>80</td>\n",
       "      <td>45117.175231</td>\n",
       "      <td>47718.874769</td>\n",
       "    </tr>\n",
       "    <tr>\n",
       "      <th>2</th>\n",
       "      <td>85</td>\n",
       "      <td>44956.852092</td>\n",
       "      <td>47879.197908</td>\n",
       "    </tr>\n",
       "    <tr>\n",
       "      <th>3</th>\n",
       "      <td>90</td>\n",
       "      <td>44748.837894</td>\n",
       "      <td>48087.212106</td>\n",
       "    </tr>\n",
       "    <tr>\n",
       "      <th>4</th>\n",
       "      <td>95</td>\n",
       "      <td>44429.206320</td>\n",
       "      <td>48406.843680</td>\n",
       "    </tr>\n",
       "    <tr>\n",
       "      <th>5</th>\n",
       "      <td>98</td>\n",
       "      <td>44057.824873</td>\n",
       "      <td>48778.225127</td>\n",
       "    </tr>\n",
       "    <tr>\n",
       "      <th>6</th>\n",
       "      <td>99</td>\n",
       "      <td>43804.149021</td>\n",
       "      <td>49031.900979</td>\n",
       "    </tr>\n",
       "  </tbody>\n",
       "</table>\n",
       "</div>"
      ],
      "text/plain": [
       "   CI         Lower         Upper\n",
       "0  70  45366.792269  47469.257731\n",
       "1  80  45117.175231  47718.874769\n",
       "2  85  44956.852092  47879.197908\n",
       "3  90  44748.837894  48087.212106\n",
       "4  95  44429.206320  48406.843680\n",
       "5  98  44057.824873  48778.225127\n",
       "6  99  43804.149021  49031.900979"
      ]
     },
     "execution_count": 48,
     "metadata": {},
     "output_type": "execute_result"
    }
   ],
   "source": [
    "#INCOME CI\n",
    "data_values = cardio_data[cardio_data['Product'] == 'TM195']['Income']\n",
    "upper,lower = confidence_interval(99,vals)\n",
    "\n",
    "intervals = [70,80,85,90,95,98,99]\n",
    "Education_log = []\n",
    "for val in intervals:\n",
    "    upper,lower = confidence_interval(val,data_values)\n",
    "    Education_log.append([val,lower,upper])\n",
    "pd.DataFrame(Education_log,columns=[\"CI\",'Lower','Upper'])"
   ]
  }
 ],
 "metadata": {
  "kernelspec": {
   "display_name": "Python 3",
   "language": "python",
   "name": "python3"
  },
  "language_info": {
   "codemirror_mode": {
    "name": "ipython",
    "version": 3
   },
   "file_extension": ".py",
   "mimetype": "text/x-python",
   "name": "python",
   "nbconvert_exporter": "python",
   "pygments_lexer": "ipython3",
   "version": "3.8.5"
  }
 },
 "nbformat": 4,
 "nbformat_minor": 4
}
